{
 "cells": [
  {
   "attachments": {},
   "cell_type": "markdown",
   "metadata": {},
   "source": [
    "## Pandas Review\n",
    "\n",
    "### Introduction\n",
    "\n",
    "Pandas is a Python library that plays a pivotal role in data science. It is used both for data wrangling and for calculations, and merges well with machine learning libraries, too. It has plenty of applications, covering a lot of the lost ground that Python had versus R in the past. You need to install it with the following command in the terminal."
   ]
  },
  {
   "attachments": {},
   "cell_type": "markdown",
   "metadata": {},
   "source": [
    "```\n",
    "python3 -m pip install pandas\n",
    "```"
   ]
  },
  {
   "attachments": {},
   "cell_type": "markdown",
   "metadata": {},
   "source": [
    "Pandas uses _numpy_ under the hood. _numpy_ is a numerical library that enhances Python's computational capabilities. Pandas is well thought so that we do not need to explicitly invoke _numpy_ often, but it will nevertheless appear every now and then.\n",
    "\n",
    "We will mentioned _arrays_ sometimes, and we will be referring to numpy's _ndarray_ object. You may think of it loosely as a homogeneus list of numbers."
   ]
  },
  {
   "cell_type": "code",
   "execution_count": 4,
   "metadata": {},
   "outputs": [],
   "source": [
    "from pprint import pprint\n",
    "import pandas as pd"
   ]
  },
  {
   "attachments": {},
   "cell_type": "markdown",
   "metadata": {},
   "source": [
    "### Series\n",
    "\n",
    "_Series_ and _DataFrame_ are the two workhorses of pandas. _Series_ is a one-dimensional object containing a sequence of values and an associated array of data labels called _index_.\n",
    "\n",
    "Let's define our first _series_ (the _pprint_ is not necessary)."
   ]
  },
  {
   "cell_type": "code",
   "execution_count": 6,
   "metadata": {},
   "outputs": [
    {
     "name": "stdout",
     "output_type": "stream",
     "text": [
      "0     1\n",
      "1    10\n",
      "2     5\n",
      "3     2\n",
      "dtype: int64\n"
     ]
    }
   ],
   "source": [
    "from pprint import pprint\n",
    "import pandas as pd\n",
    "obj = pd.Series([1, 10, 5, 2])\n",
    "pprint(obj)"
   ]
  },
  {
   "attachments": {},
   "cell_type": "markdown",
   "metadata": {},
   "source": [
    "We can access the _array_ and _index_ attributes easily."
   ]
  },
  {
   "cell_type": "code",
   "execution_count": 7,
   "metadata": {},
   "outputs": [
    {
     "data": {
      "text/plain": [
       "RangeIndex(start=0, stop=4, step=1)"
      ]
     },
     "execution_count": 7,
     "metadata": {},
     "output_type": "execute_result"
    }
   ],
   "source": [
    "obj.array\n",
    "obj.index"
   ]
  },
  {
   "attachments": {},
   "cell_type": "markdown",
   "metadata": {},
   "source": [
    "Sometimes we want the _index_ to consist of labels instead of integers. The labels can be used then to access single values or sets of values."
   ]
  },
  {
   "cell_type": "code",
   "execution_count": 8,
   "metadata": {},
   "outputs": [
    {
     "data": {
      "text/plain": [
       "a    1\n",
       "c    5\n",
       "dtype: int64"
      ]
     },
     "execution_count": 8,
     "metadata": {},
     "output_type": "execute_result"
    }
   ],
   "source": [
    "obj_ = pd.Series([1, 10, 5, 2], index=['a', 'b', 'c', 'd'])\n",
    "obj_\n",
    "obj_['a']\n",
    "obj_[['a', 'c']]"
   ]
  },
  {
   "attachments": {},
   "cell_type": "markdown",
   "metadata": {},
   "source": [
    "Note that we need to put the indexes in a list. We can filter a _Series_ and apply numerical operations to it."
   ]
  },
  {
   "cell_type": "code",
   "execution_count": 9,
   "metadata": {},
   "outputs": [
    {
     "data": {
      "text/plain": [
       "a    0.000000\n",
       "b    2.302585\n",
       "c    1.609438\n",
       "d    0.693147\n",
       "dtype: float64"
      ]
     },
     "execution_count": 9,
     "metadata": {},
     "output_type": "execute_result"
    }
   ],
   "source": [
    "obj_[obj_ > 3]\n",
    "obj_ * 3\n",
    "import numpy as np\n",
    "np.log(obj_)"
   ]
  },
  {
   "attachments": {},
   "cell_type": "markdown",
   "metadata": {},
   "source": [
    "You may think of a _Series_ as an ordered dictionary, meaning that we can apply a similar syntax to the one used in dictionaries."
   ]
  },
  {
   "cell_type": "code",
   "execution_count": 10,
   "metadata": {},
   "outputs": [
    {
     "data": {
      "text/plain": [
       "False"
      ]
     },
     "execution_count": 10,
     "metadata": {},
     "output_type": "execute_result"
    }
   ],
   "source": [
    "'a' in obj_\n",
    "'other_index' in obj_"
   ]
  },
  {
   "attachments": {},
   "cell_type": "markdown",
   "metadata": {},
   "source": [
    "Indeed, we can easily create a Series from a dictionary."
   ]
  },
  {
   "cell_type": "code",
   "execution_count": 11,
   "metadata": {},
   "outputs": [],
   "source": [
    "savings = {'Ann': 10, 'Bob': 20, 'Charlie':15, 'Diane': 5}\n",
    "obj_s = pd.Series(savings)"
   ]
  },
  {
   "attachments": {},
   "cell_type": "markdown",
   "metadata": {},
   "source": [
    "We can enforce a particular order for the indexes, but if we push one that does not have a value, a `NA` will appear. `NA` is a missing value and can be detected with the Python functions `isna()` and `notna()`."
   ]
  },
  {
   "cell_type": "code",
   "execution_count": 12,
   "metadata": {},
   "outputs": [
    {
     "data": {
      "text/plain": [
       "Ann        10.0\n",
       "Bob        20.0\n",
       "Charlie    15.0\n",
       "Diane       5.0\n",
       "Eddie       NaN\n",
       "dtype: float64"
      ]
     },
     "execution_count": 12,
     "metadata": {},
     "output_type": "execute_result"
    }
   ],
   "source": [
    "people = ('Ann', 'Bob', 'Charlie', 'Diane', 'Eddie')\n",
    "obj_n = pd.Series(savings, index=people)\n",
    "obj_n"
   ]
  },
  {
   "cell_type": "code",
   "execution_count": 13,
   "metadata": {},
   "outputs": [
    {
     "data": {
      "text/plain": [
       "Ann        False\n",
       "Bob        False\n",
       "Charlie    False\n",
       "Diane      False\n",
       "Eddie       True\n",
       "dtype: bool"
      ]
     },
     "execution_count": 13,
     "metadata": {},
     "output_type": "execute_result"
    }
   ],
   "source": [
    "pd.isna(obj_n)\n",
    "pd.notna(obj_n)\n",
    "obj_n.isna()"
   ]
  },
  {
   "attachments": {},
   "cell_type": "markdown",
   "metadata": {},
   "source": [
    "Indexes are useful because they align the Series automatically when operating with them."
   ]
  },
  {
   "cell_type": "code",
   "execution_count": 14,
   "metadata": {},
   "outputs": [
    {
     "data": {
      "text/plain": [
       "Ann        12.0\n",
       "Bob        23.0\n",
       "Charlie    15.0\n",
       "Diane       NaN\n",
       "Eddie       NaN\n",
       "dtype: float64"
      ]
     },
     "execution_count": 14,
     "metadata": {},
     "output_type": "execute_result"
    }
   ],
   "source": [
    "lump = {'Ann':2, 'Bob': 3, 'Charlie':0, 'Eddie':2}\n",
    "obj_l = pd.Series(lump)\n",
    "obj_n + obj_l"
   ]
  },
  {
   "attachments": {},
   "cell_type": "markdown",
   "metadata": {},
   "source": [
    "Note that the `NaN` is \"contagious\", affecting the operations where it is involved.\n",
    "\n",
    "Both the Series object and its index have a name that can be modified. The index can also be altered by assignment."
   ]
  },
  {
   "cell_type": "code",
   "execution_count": 15,
   "metadata": {},
   "outputs": [
    {
     "data": {
      "text/plain": [
       "people\n",
       "Ann        10.0\n",
       "Bob        20.0\n",
       "Charlie    15.0\n",
       "Diane       5.0\n",
       "Eddie       NaN\n",
       "Name: savings, dtype: float64"
      ]
     },
     "execution_count": 15,
     "metadata": {},
     "output_type": "execute_result"
    }
   ],
   "source": [
    "obj_n.name = 'savings'\n",
    "obj_n.index.name = 'people'\n",
    "obj_n"
   ]
  },
  {
   "attachments": {},
   "cell_type": "markdown",
   "metadata": {},
   "source": [
    "### Dataframes\n",
    "\n",
    "A DataFrame is a rectangular table of data that contains a ordered, named collection of columns. One common way to build a dataframe is with a dictionary of lists or arrays."
   ]
  },
  {
   "cell_type": "code",
   "execution_count": 22,
   "metadata": {},
   "outputs": [
    {
     "name": "stdout",
     "output_type": "stream",
     "text": [
      "        name country  market_cap\n",
      "0      Tesla      US        1000\n",
      "1  Berkshire      US         400\n",
      "2     Nvidia      US         600\n",
      "3    Tencent   China         550\n"
     ]
    }
   ],
   "source": [
    "companies = {'name': ['Tesla', 'Berkshire', 'Nvidia', 'Tencent'],\n",
    "             'country': ['US', 'US', 'US', 'China'],\n",
    "             'market_cap': [350, 400, 600, 550],\n",
    "}\n",
    "df = pd.DataFrame(companies)\n",
    "print(df)"
   ]
  },
  {
   "attachments": {},
   "cell_type": "markdown",
   "metadata": {},
   "source": [
    "The order of the columns can be specified."
   ]
  },
  {
   "cell_type": "code",
   "execution_count": 17,
   "metadata": {},
   "outputs": [
    {
     "name": "stdout",
     "output_type": "stream",
     "text": [
      "  country       name  market_cap\n",
      "0      US      Tesla        1000\n",
      "1      US  Berkshire         700\n",
      "2      US     Nvidia         600\n",
      "3   China    Tencent         550\n"
     ]
    }
   ],
   "source": [
    "df = pd.DataFrame(companies, columns=['country', 'name', 'market_cap'])\n",
    "print(df)"
   ]
  },
  {
   "attachments": {},
   "cell_type": "markdown",
   "metadata": {},
   "source": [
    "Columns that are not contained in the constructor will be full of `NaN`s."
   ]
  },
  {
   "cell_type": "code",
   "execution_count": 18,
   "metadata": {},
   "outputs": [
    {
     "name": "stdout",
     "output_type": "stream",
     "text": [
      "  country       name  market_cap revenues\n",
      "0      US      Tesla        1000      NaN\n",
      "1      US  Berkshire         700      NaN\n",
      "2      US     Nvidia         600      NaN\n",
      "3   China    Tencent         550      NaN\n"
     ]
    }
   ],
   "source": [
    "df = pd.DataFrame(companies, columns=['country', 'name', 'market_cap', 'revenues'])\n",
    "print(df)"
   ]
  },
  {
   "attachments": {},
   "cell_type": "markdown",
   "metadata": {},
   "source": [
    "Columns can be accessed either as keys or as attributes."
   ]
  },
  {
   "cell_type": "code",
   "execution_count": 19,
   "metadata": {},
   "outputs": [
    {
     "data": {
      "text/plain": [
       "0        Tesla\n",
       "1    Berkshire\n",
       "2       Nvidia\n",
       "3      Tencent\n",
       "Name: name, dtype: object"
      ]
     },
     "execution_count": 19,
     "metadata": {},
     "output_type": "execute_result"
    }
   ],
   "source": [
    "df.name\n",
    "df['name']"
   ]
  },
  {
   "attachments": {},
   "cell_type": "markdown",
   "metadata": {},
   "source": [
    "Rows can be accessed with the `loc` attribute and their index."
   ]
  },
  {
   "cell_type": "code",
   "execution_count": 25,
   "metadata": {},
   "outputs": [
    {
     "data": {
      "text/plain": [
       "name          Berkshire\n",
       "country              US\n",
       "market_cap          400\n",
       "Name: 1, dtype: object"
      ]
     },
     "execution_count": 25,
     "metadata": {},
     "output_type": "execute_result"
    }
   ],
   "source": [
    "df.loc[1]"
   ]
  },
  {
   "cell_type": "code",
   "execution_count": null,
   "metadata": {},
   "outputs": [],
   "source": []
  }
 ],
 "metadata": {
  "kernelspec": {
   "display_name": "Python 3",
   "language": "python",
   "name": "python3"
  },
  "language_info": {
   "codemirror_mode": {
    "name": "ipython",
    "version": 3
   },
   "file_extension": ".py",
   "mimetype": "text/x-python",
   "name": "python",
   "nbconvert_exporter": "python",
   "pygments_lexer": "ipython3",
   "version": "3.11.1"
  },
  "orig_nbformat": 4,
  "vscode": {
   "interpreter": {
    "hash": "949777d72b0d2535278d3dc13498b2535136f6dfe0678499012e853ee9abcab1"
   }
  }
 },
 "nbformat": 4,
 "nbformat_minor": 2
}
